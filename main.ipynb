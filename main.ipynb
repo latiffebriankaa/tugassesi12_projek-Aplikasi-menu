{
 "cells": [
  {
   "cell_type": "code",
   "execution_count": 29,
   "id": "5bb55e7e-aee8-4b7d-a081-175ce5e5cdaf",
   "metadata": {},
   "outputs": [
    {
     "name": "stdout",
     "output_type": "stream",
     "text": [
      " \n",
      "=== MENU UTAMA ===\n",
      "1. Aritmatika\n",
      "2. Konversi\n",
      "3. Ubah Bilangan\n",
      "4. Keluar\n",
      "\n"
     ]
    },
    {
     "name": "stdin",
     "output_type": "stream",
     "text": [
      "Isikan pilihan menu (1-4):  1\n"
     ]
    },
    {
     "name": "stdout",
     "output_type": "stream",
     "text": [
      "\n",
      "=== MENU ARITMATIKA ===\n",
      "1. Penjumlahan\n",
      "2. Perpangkatan\n",
      "3. Perkalian\n",
      "\n"
     ]
    },
    {
     "name": "stdin",
     "output_type": "stream",
     "text": [
      "Isikan pilihan aritmatika (1-4):  2\n",
      "Masukkan bilangan 1:  10\n",
      "Masukkan bilangan 2:  2\n"
     ]
    },
    {
     "name": "stdout",
     "output_type": "stream",
     "text": [
      "Hasil perpangkatan: 100\n",
      " \n",
      "=== MENU UTAMA ===\n",
      "1. Aritmatika\n",
      "2. Konversi\n",
      "3. Ubah Bilangan\n",
      "4. Keluar\n",
      "\n"
     ]
    },
    {
     "name": "stdin",
     "output_type": "stream",
     "text": [
      "Isikan pilihan menu (1-4):  4\n"
     ]
    },
    {
     "name": "stdout",
     "output_type": "stream",
     "text": [
      "Terima kasih telah menggunakan program ini!\n"
     ]
    }
   ],
   "source": [
    "#### import aritmatic.math as m\n",
    "import convert.convert as c\n",
    "import ubah_bilangan.ubah_bilangan as u\n",
    "\n",
    "def menu_utama():\n",
    "    print(''' \n",
    "=== MENU UTAMA ===\n",
    "1. Aritmatika\n",
    "2. Konversi\n",
    "3. Ubah Bilangan\n",
    "4. Keluar\n",
    "''')\n",
    "\n",
    "def menu_aritmatika():\n",
    "    print('''\n",
    "=== MENU ARITMATIKA ===\n",
    "1. Penjumlahan\n",
    "2. Perpangkatan\n",
    "3. Perkalian\n",
    "''')\n",
    "\n",
    "def menu_convert():\n",
    "    print(''' \n",
    "=== MENU KONVERSI ===\n",
    "1. Centimeter ke Meter\n",
    "2. Meter ke Centimeter\n",
    "''')\n",
    "\n",
    "def menu_ubah_bilangan():\n",
    "    print(''' \n",
    "=== MENU UBAH BILANGAN ===\n",
    "1. Desimal ke Biner\n",
    "2. Desimal ke Oktal\n",
    "3. Desimal ke Heksadesimal\n",
    "''')\n",
    "\n",
    "while True:\n",
    "    menu_utama()\n",
    "    pilihmenu = input(\"Isikan pilihan menu (1-4): \")\n",
    "    \n",
    "    if pilihmenu == '1':\n",
    "        menu_aritmatika()\n",
    "        piliharitmatika = input(\"Isikan pilihan aritmatika (1-4): \")\n",
    "                            \n",
    "        num1 = int(input(\"Masukkan bilangan 1: \"))\n",
    "        num2 = int(input(\"Masukkan bilangan 2: \"))\n",
    "            \n",
    "        if piliharitmatika == '1':\n",
    "            print(f\"Hasil penjumlahan: {m.add(num1, num2)}\")\n",
    "        elif piliharitmatika == '2':\n",
    "            print(f\"Hasil perpangkatan: {m.pow(num1, num2)}\")\n",
    "        elif piliharitmatika == '3':\n",
    "            print(f\"Hasil perkalian: {m.multiplay(num1, num2)}\")\n",
    "        else:\n",
    "            print(\"Pilihan tidak valid!\")\n",
    "    \n",
    "    elif pilihmenu == '2':\n",
    "        menu_convert()\n",
    "        pilihconvert = input(\"Isikan pilihan konversi (1-3): \")\n",
    "                \n",
    "        if pilihconvert == '1':\n",
    "            cm = int(input(\"Masukkan panjang dalam cm: \"))\n",
    "            print(f\"{cm} cm = {c.centimeter_ke_meter(cm)} m\")\n",
    "        elif pilihconvert == '2':\n",
    "            meter = int(input(\"Masukkan panjang dalam meter: \"))\n",
    "            print(f\"{meter} m = {c.meter_ke_centimeter(meter)} cm\")\n",
    "        else:\n",
    "            print(\"Pilihan tidak valid!\")\n",
    "            \n",
    "    elif pilihmenu == '3':\n",
    "        menu_ubah_bilangan()\n",
    "        pilihubah = input(\"Isikan pilihan ubah bilangan (1-4): \")\n",
    "            \n",
    "        bilangan = int(input(\"Masukkan bilangan desimal: \"))\n",
    "        if pilihubah == '1':\n",
    "            print(f\"Biner: {u.desimal_ke_biner(bilangan)}\")\n",
    "        elif pilihubah == '2':\n",
    "            print(f\"Oktal: {u.desimal_ke_oktal(bilangan)}\")\n",
    "        elif pilihubah == '3':\n",
    "            print(f\"Heksadesimal: {u.desimal_ke_hexadesimal(bilangan)}\")\n",
    "        else:\n",
    "            print(\"Pilihan tidak valid!\")\n",
    "            \n",
    "    # Keluar\n",
    "    elif pilihmenu == '4':\n",
    "        print(\"Terima kasih telah menggunakan program ini!\")\n",
    "        break\n",
    "    \n",
    "    else:\n",
    "        print(\"Pilihan tidak valid!\")"
   ]
  },
  {
   "cell_type": "code",
   "execution_count": null,
   "id": "02f6ff43-9034-4a75-9cb8-f11969e02c6b",
   "metadata": {},
   "outputs": [],
   "source": []
  }
 ],
 "metadata": {
  "kernelspec": {
   "display_name": "Python [conda env:base] *",
   "language": "python",
   "name": "conda-base-py"
  },
  "language_info": {
   "codemirror_mode": {
    "name": "ipython",
    "version": 3
   },
   "file_extension": ".py",
   "mimetype": "text/x-python",
   "name": "python",
   "nbconvert_exporter": "python",
   "pygments_lexer": "ipython3",
   "version": "3.12.7"
  }
 },
 "nbformat": 4,
 "nbformat_minor": 5
}
